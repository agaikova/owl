{
 "cells": [
  {
   "cell_type": "code",
   "execution_count": 347,
   "metadata": {
    "collapsed": false
   },
   "outputs": [
    {
     "name": "stdout",
     "output_type": "stream",
     "text": [
      "The nengo.ipynb extension is already loaded. To reload it, use:\n",
      "  %reload_ext nengo.ipynb\n"
     ]
    }
   ],
   "source": [
    "%matplotlib inline\n",
    "import pylab\n",
    "import numpy as np\n",
    "import nengo\n",
    "import matplotlib.pyplot as plt\n",
    "#import cPickle as pickle\n",
    "%load_ext nengo.ipynb"
   ]
  },
  {
   "cell_type": "code",
   "execution_count": 348,
   "metadata": {
    "collapsed": true
   },
   "outputs": [],
   "source": [
    "childhood = 200\n",
    "training1 = childhood+90\n",
    "glasses_on = training1+136\n",
    "training2 = glasses_on+90\n",
    "mod = 23*(np.pi/180) #degrees"
   ]
  },
  {
   "cell_type": "code",
   "execution_count": 349,
   "metadata": {
    "collapsed": false
   },
   "outputs": [],
   "source": [
    "def training_fn(t):\n",
    "    if (t<= childhood) or (training1 <= t < glasses_on):\n",
    "        return 1\n",
    "    else:\n",
    "        return 0\n",
    "\n",
    "def glasses_fn(t):\n",
    "    if t >= training1:\n",
    "        return 1\n",
    "    else:\n",
    "        return 0\n",
    "\n",
    "time_per_val = 0.5\n",
    "time_per_val_testing = 1.0\n",
    "dist = nengo.dists.Uniform(-np.pi, np.pi) \n",
    "vals_testing = np.linspace(0,2*np.pi,90)\n",
    "training_time1 = childhood\n",
    "training_time2 = glasses_on-training1\n",
    "vals_training1 = dist.sample((training_time1/time_per_val)+1)\n",
    "vals_training2 = dist.sample((training_time2/time_per_val)+1)\n",
    "    \n",
    "\n",
    "def stim_fn(t, x):\n",
    "    glasses, train = x\n",
    "    if glasses == 0 and train ==1:\n",
    "        # First training period, random things appear\n",
    "        index = int((t - 0)/time_per_val)\n",
    "        return vals_training1[index]\n",
    "    if glasses == 0 and train == 0: \n",
    "        # Test the owl by forcing it to incrimentally look at all the things\n",
    "        # Gives data to form pre-learning tuning curve\n",
    "        index = int((t - childhood)/time_per_val_testing)\n",
    "        return vals_testing[index]\n",
    "    if glasses ==1 and train == 1:\n",
    "        # Second Training period, random things appear\n",
    "        index = int((t - training1)/time_per_val)\n",
    "        return vals_training2[index]\n",
    "    if glasses == 1 and train == 0:\n",
    "        # Last period, test owl by forcing it to incrimentally look at things\n",
    "        index = int((t-glasses_on)/time_per_val_testing)\n",
    "        return vals_testing[index % len(vals_testing)]\n",
    "        \n",
    "def convert_to_circle(x):\n",
    "    #takes a value in RADIANS, converts ton x y cartesian coordinates\n",
    "    # x is gonna be an angle value, we're assuming r=1 for the sake of simplicity\n",
    "    return np.cos(x), np.sin(x)\n",
    "    \n",
    "def is_mod_fn(t, x):\n",
    "    stim, glasses = x\n",
    "    if glasses == 1:\n",
    "        return stim+mod\n",
    "    else:\n",
    "        return stim\n",
    "\n",
    "def error_on(training):\n",
    "    if training == 1:\n",
    "        return 1\n",
    "    else:    \n",
    "        return 0\n",
    "        \n",
    "model = nengo.Network()\n",
    "with model:\n",
    "    training = nengo.Node(training_fn)\n",
    "    glasses = nengo.Node(glasses_fn)\n",
    "    stim = nengo.Node(stim_fn, size_in = 2, size_out = 1)\n",
    "    use_mod = nengo.Node(is_mod_fn, size_in = 2, size_out = 1) \n",
    "    \n",
    "    train2stim = nengo.Connection(training, stim[1], synapse = None)\n",
    "    glasses2stim = nengo.Connection(glasses, stim[0], synapse = None)\n",
    "    \n",
    "    # Connecting a bunch of different ensembles\n",
    "    visual_raw = nengo.Ensemble(n_neurons=300, dimensions=3, intercepts = nengo.dists.Uniform(0.81,0.91))\n",
    "    auditory = nengo.Ensemble(n_neurons=200, dimensions = 2, intercepts = nengo.dists.Uniform(0.81,0.91))\n",
    "    stim2use_mod = nengo.Connection(stim, use_mod[0], synapse = None)\n",
    "    glasses2use_mod = nengo.Connection(glasses, use_mod[1], synapse = None)\n",
    "    use_mod2vis = nengo.Connection(use_mod, visual_raw[:2], function = convert_to_circle)\n",
    "    stim2aud = nengo.Connection(stim, auditory, function = convert_to_circle)\n",
    "    \n",
    "    # Error stuff\n",
    "    error = nengo.Ensemble(n_neurons = 400, dimensions = 2) #error_fn, size_in = 4, size_out = 2)\n",
    "    visual_cor = nengo.Ensemble(n_neurons = 200, dimensions = 2)\n",
    "    vis2vis = nengo.Connection(visual_raw[:2], visual_cor[:2],synapse = 0.1, learning_rule_type = nengo.PES())\n",
    "    vis2vis.solver = nengo.solvers.LstsqL2(weights = True)\n",
    "    aud2error = nengo.Connection(auditory[:2], error[:2], transform = -1)\n",
    "    vis2error = nengo.Connection(visual_cor[:2], error[:2])\n",
    "    \n",
    "    nengo.Connection(error, vis2vis.learning_rule)\n",
    "    \n",
    "    probe = nengo.Probe(visual_cor.neurons)"
   ]
  },
  {
   "cell_type": "code",
   "execution_count": null,
   "metadata": {
    "collapsed": false
   },
   "outputs": [],
   "source": [
    "sim = nengo.Simulator(model)\n",
    "sim.run(training2)"
   ]
  },
  {
   "cell_type": "code",
   "execution_count": 331,
   "metadata": {
    "collapsed": false
   },
   "outputs": [
    {
     "name": "stdout",
     "output_type": "stream",
     "text": [
      "230.0\n",
      "230\n",
      "(230000, 200)\n",
      "230000\n",
      "230000\n",
      "(230000,)\n"
     ]
    }
   ],
   "source": [
    "print(sim.trange()[-1])\n",
    "print(training2)\n",
    "x = vals_testing\n",
    "\n",
    "#print((180/np.pi)*(x[i]-x[i+1]))\n",
    "y = sim.data[probe]#[-int():]\n",
    "#pickle.dump(sim.data[probe], open(owldata, 'wb'))\n",
    "print(y.shape)\n",
    "print(len(y))\n",
    "z = sim.trange()\n",
    "print (len(z))\n",
    "print(z.shape)"
   ]
  },
  {
   "cell_type": "code",
   "execution_count": null,
   "metadata": {
    "collapsed": true
   },
   "outputs": [],
   "source": [
    " def calc_norm(rates, rate_peaks=None):\n",
    "        #assume that cells with similar peak centers would fall under the same\n",
    "        #multicellular recording therefore peaks are done relative to all values with similar peaks\n",
    "        nrm_rates = []\n",
    "        if rate_peaks is None:\n",
    "            rate_peaks = np.max(rates, axis=0)\n",
    "            rate_peaks = np.array([p if p > 0 else 1 for p in rate_peaks])\n",
    "        max_i = np.argmax(rates, axis=0)\n",
    "        for j, i in enumerate(max_i):\n",
    "            nrm_rates.append(rates[:, j]/rate_peaks[i])\n",
    "        nrm_rates = np.array(nrm_rates).transpose()\n",
    "        return nrm_rates, rate_peaks\n",
    "    \n",
    "    #x = calc_norm (mean1_activity)\n",
    "    print (x)"
   ]
  },
  {
   "cell_type": "code",
   "execution_count": 333,
   "metadata": {
    "collapsed": false,
    "scrolled": false
   },
   "outputs": [
    {
     "name": "stdout",
     "output_type": "stream",
     "text": [
      "321.0 325.0\n",
      "90 45 45\n",
      "(90, 1)\n"
     ]
    },
    {
     "data": {
      "image/png": "[encoded data removed]",
      "text/plain": [
       "<matplotlib.figure.Figure at 0x7f65aa4158d0>"
      ]
     },
     "metadata": {},
     "output_type": "display_data"
    }
   ],
   "source": [
    "for i in range(2,3):\n",
    "\n",
    "    activity = y[:,i]\n",
    "    dt = 0.001\n",
    "\n",
    "    test1_activity = activity[int(childhood/dt):int(training1/dt)]\n",
    "    test2_activity = activity[int(glasses_on/dt):int(training2/dt)]\n",
    "\n",
    "    mean1_activity = np.mean(test1_activity.reshape(90, 1000),axis=1)\n",
    "    mean2_activity = np.mean(test2_activity.reshape(90, 1000),axis=1)\n",
    "\n",
    "    max_mean1 = mean1_activity.max()\n",
    "    max_mean2 = mean2_activity.max()\n",
    "    print(max_mean1, max_mean2)\n",
    "    indices1 = np.where(mean1_activity==mean1_activity.max())\n",
    "    indices2 = np.where(mean2_activity==mean2_activity.max())\n",
    "    increment = int(indices1[0][0])\n",
    "    increment2 = int(indices2[0][0])\n",
    "    #print(increment, increment2)\n",
    "    \n",
    "    for j in range(len(mean1_activity)-1):\n",
    "        rightmost = np.asarray(np.where(mean1_activity>0))\n",
    "        r = rightmost[-1][-1]\n",
    "        \n",
    "    a = np.where(mean1_activity >= 0)\n",
    "    a = np.asarray(a)\n",
    " \n",
    "    indicies_to_adjust1 = np.where(mean1_activity[0:r])\n",
    "    indicies_to_adjust1 = np.asarray(indicies_to_adjust1)\n",
    "    indicies_to_adjust1[:] = [(x-increment) for x in indicies_to_adjust1]\n",
    "\n",
    "    x = (indicies_to_adjust1[-1][-1]) + 1\n",
    "    tobeadded = a.shape[1]- indicies_to_adjust1.shape[1]\n",
    "    print(a.shape[1], indicies_to_adjust1.shape[1], tobeadded)\n",
    "    extra_numbers = []\n",
    "    i = 0\n",
    "    for i in range(tobeadded):\n",
    "        extra_numbers.append(x)\n",
    "        x += 1\n",
    "        \n",
    "    extra_numbers = np.asarray(extra_numbers)\n",
    "    indicies_simplified1 = indicies_to_adjust1[0]\n",
    "    k = np.hstack((indicies_simplified1,extra_numbers))\n",
    "    #adj_val1 = indicies_to_adjust1.shape[1]\n",
    "    \n",
    "    \n",
    "    \n",
    "    \n",
    "    \n",
    "    \n",
    "    indicies_to_adjust2 = np.where(mean2_activity >= 0)\n",
    "    indicies_to_adjust2 = np.asarray(indicies_to_adjust2)\n",
    "    indicies_to_adjust2[:] = [(x-increment2) for x in indicies_to_adjust2]\n",
    "    #print(indicies_to_adjust2)\n",
    "\n",
    "    #indicies_to_adjust1 = indicies_to_adjust1.reshape(90, 1)\n",
    "    k = k.reshape(k.shape[0],1)\n",
    "    k = np.asarray(k)\n",
    "    print(k.shape)\n",
    "    #k[:] = [(x-increment)for x in k]\n",
    "    indicies_to_adjust2 = indicies_to_adjust2.reshape(90,1)\n",
    "    pylab.plot(k, mean1_activity, c='r')\n",
    "    #pylab.plot(indicies_to_adjust2, mean2_activity, c='b')\n",
    "    #plt.xlabel('ITD relative to best')\n",
    "    "
   ]
  },
  {
   "cell_type": "code",
   "execution_count": 346,
   "metadata": {
    "collapsed": false
   },
   "outputs": [
    {
     "name": "stdout",
     "output_type": "stream",
     "text": [
      "418.0 416.0\n"
     ]
    },
    {
     "data": {
      "image/png": "[encoded data removed]",
      "text/plain": [
       "<matplotlib.figure.Figure at 0x7f65a9b4d630>"
      ]
     },
     "metadata": {},
     "output_type": "display_data"
    }
   ],
   "source": [
    "for i in [12]:\n",
    "\n",
    "    activity = y[:,i]\n",
    "    dt = 0.001\n",
    "\n",
    "    test1_activity = activity[int(childhood/dt):int(training1/dt)]\n",
    "    test2_activity = activity[int(glasses_on/dt):int(training2/dt)]\n",
    "\n",
    "    mean1_activity = np.mean(test1_activity.reshape(90, 1000),axis=1)\n",
    "    mean2_activity = np.mean(test2_activity.reshape(90, 1000),axis=1)\n",
    "\n",
    "    max_mean1 = mean1_activity.max()\n",
    "    max_mean2 = mean2_activity.max()\n",
    "    print(max_mean1, max_mean2)\n",
    "    indices1 = np.where(mean1_activity==mean1_activity.max())\n",
    "    indices2 = np.where(mean2_activity==mean2_activity.max())\n",
    "    increment = int(indices1[0][0])\n",
    "    increment2 = int(indices2[0][0])\n",
    "    #print(increment, increment2)\n",
    "    \n",
    "    pylab.plot(np.arange(len(mean1_activity)) - increment, mean1_activity, c='r')\n",
    "    pylab.plot(np.arange(len(mean2_activity)) - increment, mean2_activity, c='b')\n",
    "    '''\n",
    "    a = np.where(mean1_activity >= 0)\n",
    "    a = np.asarray(a)\n",
    " \n",
    "    indicies_to_adjust1 = np.where(mean1_activity >=0)\n",
    "    indicies_to_adjust1 = np.asarray(indicies_to_adjust1)\n",
    "    indicies_to_adjust1[:] = [(x-increment) for x in indicies_to_adjust1]\n",
    "\n",
    "    \n",
    "    \n",
    "    indicies_to_adjust2 = np.where(mean2_activity >= 0)\n",
    "    indicies_to_adjust2 = np.asarray(indicies_to_adjust2)\n",
    "    indicies_to_adjust2[:] = [(x-increment2) for x in indicies_to_adjust2]\n",
    "    #print(indicies_to_adjust2)\n",
    "\n",
    "    pylab.plot(indicies_to_adjust1, mean1_activity, c='r')\n",
    "    pylab.plot(indicies_to_adjust2, mean2_activity, c='b')\n",
    "    #plt.xlabel('ITD relative to best')\n",
    "    '''\n",
    "    "
   ]
  },
  {
   "cell_type": "code",
   "execution_count": null,
   "metadata": {
    "collapsed": true
   },
   "outputs": [],
   "source": []
  }
 ],
 "metadata": {
  "kernelspec": {
   "display_name": "Python 3",
   "language": "python",
   "name": "python3"
  },
  "language_info": {
   "codemirror_mode": {
    "name": "ipython",
    "version": 3
   },
   "file_extension": ".py",
   "mimetype": "text/x-python",
   "name": "python",
   "nbconvert_exporter": "python",
   "pygments_lexer": "ipython3",
   "version": "3.5.1"
  }
 },
 "nbformat": 4,
 "nbformat_minor": 0
}
